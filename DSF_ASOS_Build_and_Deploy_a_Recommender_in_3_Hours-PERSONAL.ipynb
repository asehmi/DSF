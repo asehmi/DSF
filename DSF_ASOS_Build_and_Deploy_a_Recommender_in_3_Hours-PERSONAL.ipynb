{
 "cells": [
  {
   "cell_type": "markdown",
   "metadata": {
    "id": "EfCHKZlCANC5"
   },
   "source": [
    "# Data Science Festival x ASOS\n",
    "## Build and Deploy a Recommender System in 3 Hours.\n",
    "\n",
    "Data Science Festival - November 2020\n",
    "\n",
    "A talk by Dr. Gordon Blackadder & Neha Patel\n",
    "\n",
    "(This workbook was completed during the session by Arvindra Sehmi. All mistakes are my own. Use at your own discretion.)\n",
    "\n",
    "### *** _BEST TO RUN THIS IN GPU MODE IN GOOGLE COLAB_ ***"
   ]
  },
  {
   "cell_type": "markdown",
   "metadata": {
    "id": "Va0TRxcdANC8"
   },
   "source": [
    "# Imports"
   ]
  },
  {
   "cell_type": "code",
   "execution_count": 3,
   "metadata": {
    "id": "d1RD2r6yANDA"
   },
   "outputs": [],
   "source": [
    "import numpy as np\n",
    "import pandas as pd\n",
    "import tensorflow as tf\n",
    "import os"
   ]
  },
  {
   "cell_type": "markdown",
   "metadata": {
    "id": "bn-0c1ywANDP"
   },
   "source": [
    "# Import training data"
   ]
  },
  {
   "cell_type": "code",
   "execution_count": 4,
   "metadata": {
    "id": "36nN3ZFfANDQ"
   },
   "outputs": [],
   "source": [
    "train = pd.read_parquet(\"https://raw.githubusercontent.com/ASOS/dsf2020/main/dsf_asos_train_with_alphanumeric_dummy_ids.parquet\")\n",
    "valid = pd.read_parquet(\"https://raw.githubusercontent.com/ASOS/dsf2020/main/dsf_asos_valid_with_alphanumeric_dummy_ids.parquet\")\n",
    "dummy_users = pd.read_csv(\"https://raw.githubusercontent.com/ASOS/dsf2020/main/dsf_asos_dummy_users_with_alphanumeric_dummy_ids.csv\", header=None).values.flatten().astype(str)\n",
    "products = pd.read_csv(\"https://raw.githubusercontent.com/ASOS/dsf2020/main/dsf_asos_productIds.csv\", header=None).values.flatten().astype(int)"
   ]
  },
  {
   "cell_type": "markdown",
   "metadata": {
    "id": "SWEWXhyEANDd"
   },
   "source": [
    "# The briefest intro to tf"
   ]
  },
  {
   "cell_type": "markdown",
   "metadata": {
    "id": "1_IdohsoANDf"
   },
   "source": [
    "Tensors"
   ]
  },
  {
   "cell_type": "code",
   "execution_count": 5,
   "metadata": {
    "id": "_nAU2B0EANEK"
   },
   "outputs": [],
   "source": [
    "x = tf.constant([[1,2,3]], dtype=tf.float32)\n",
    "Y = tf.constant([[1,2,3,4], [1,2,3,4], [1,2,3,4]], dtype=tf.float32)"
   ]
  },
  {
   "cell_type": "code",
   "execution_count": 6,
   "metadata": {
    "colab": {
     "base_uri": "https://localhost:8080/"
    },
    "id": "2rssyKf8ANDh",
    "outputId": "12816eb0-d3c2-4d6a-a6c8-e05c563b9f62"
   },
   "outputs": [
    {
     "data": {
      "text/plain": [
       "<tf.Tensor: id=2, shape=(1, 3), dtype=float32, numpy=array([[1., 4., 9.]], dtype=float32)>"
      ]
     },
     "execution_count": 6,
     "metadata": {},
     "output_type": "execute_result"
    }
   ],
   "source": [
    "tf.math.square(x)"
   ]
  },
  {
   "cell_type": "code",
   "execution_count": 7,
   "metadata": {
    "colab": {
     "base_uri": "https://localhost:8080/"
    },
    "id": "7qfmJXNFBbXq",
    "outputId": "0b10c361-a7e4-4fe7-ad61-8b9bdcd43bb2"
   },
   "outputs": [
    {
     "data": {
      "text/plain": [
       "<tf.Tensor: id=1, shape=(3, 4), dtype=float32, numpy=\n",
       "array([[1., 2., 3., 4.],\n",
       "       [1., 2., 3., 4.],\n",
       "       [1., 2., 3., 4.]], dtype=float32)>"
      ]
     },
     "execution_count": 7,
     "metadata": {},
     "output_type": "execute_result"
    }
   ],
   "source": [
    "Y"
   ]
  },
  {
   "cell_type": "markdown",
   "metadata": {
    "id": "hEvXBxGJANDw"
   },
   "source": [
    "Gradients"
   ]
  },
  {
   "cell_type": "code",
   "execution_count": 10,
   "metadata": {
    "colab": {
     "base_uri": "https://localhost:8080/",
     "height": 180
    },
    "id": "sMiAOGJ-BWEa",
    "outputId": "95e2c983-7619-40de-afa0-84f5c4427266"
   },
   "outputs": [
    {
     "name": "stdout",
     "output_type": "stream",
     "text": [
      "tf.Tensor([[1. 4. 9.]], shape=(1, 3), dtype=float32)\n"
     ]
    }
   ],
   "source": [
    "with tf.GradientTape() as tape:\n",
    "  y = tf.math.square(x)\n",
    "  print(y)"
   ]
  },
  {
   "cell_type": "markdown",
   "metadata": {
    "id": "V5pE2DXlANEK"
   },
   "source": [
    "Multiply and add tensors"
   ]
  },
  {
   "cell_type": "code",
   "execution_count": 11,
   "metadata": {
    "colab": {
     "base_uri": "https://localhost:8080/"
    },
    "id": "Zw0Rp8u4ANEP",
    "outputId": "f48ddba0-d6d1-440e-bca0-07ac593d957d"
   },
   "outputs": [
    {
     "data": {
      "text/plain": [
       "<tf.Tensor: id=6, shape=(1, 4), dtype=float32, numpy=array([[ 6., 12., 18., 24.]], dtype=float32)>"
      ]
     },
     "execution_count": 11,
     "metadata": {},
     "output_type": "execute_result"
    }
   ],
   "source": [
    "tf.matmul(x,Y)"
   ]
  },
  {
   "cell_type": "code",
   "execution_count": 12,
   "metadata": {
    "id": "oGftfkHyANEX"
   },
   "outputs": [],
   "source": [
    "z = tf.constant([10, 11, 12, 13], dtype=tf.float32)"
   ]
  },
  {
   "cell_type": "markdown",
   "metadata": {
    "id": "S_TP6q4IANEi"
   },
   "source": [
    "This operation is very common in deep learning, so it has been abstracted:"
   ]
  },
  {
   "cell_type": "code",
   "execution_count": 13,
   "metadata": {
    "colab": {
     "base_uri": "https://localhost:8080/"
    },
    "id": "1Tg2X7xTANEl",
    "outputId": "d001a449-e3fe-4b9a-a21c-414bc2c25b76"
   },
   "outputs": [
    {
     "data": {
      "text/plain": [
       "<tf.Tensor: id=36, shape=(1, 4), dtype=float32, numpy=array([[16., 23., 30., 37.]], dtype=float32)>"
      ]
     },
     "execution_count": 13,
     "metadata": {},
     "output_type": "execute_result"
    }
   ],
   "source": [
    "dl1 = tf.keras.layers.Dense(4, use_bias=True, weights=[Y, z])\n",
    "dl1(x)"
   ]
  },
  {
   "cell_type": "markdown",
   "metadata": {
    "id": "r6ISBHa-ANEs"
   },
   "source": [
    "You can choose to apply a function to each value in the output"
   ]
  },
  {
   "cell_type": "code",
   "execution_count": 14,
   "metadata": {
    "colab": {
     "base_uri": "https://localhost:8080/"
    },
    "id": "WJCXwbtpANEu",
    "outputId": "1e64ba08-e0dd-4560-f21c-3ee67d1dc1ed"
   },
   "outputs": [
    {
     "data": {
      "text/plain": [
       "<tf.Tensor: id=66, shape=(1, 4), dtype=float32, numpy=array([[17., 24., 31., 38.]], dtype=float32)>"
      ]
     },
     "execution_count": 14,
     "metadata": {},
     "output_type": "execute_result"
    }
   ],
   "source": [
    "dl2 = tf.keras.layers.Dense(4, use_bias=True, weights=[Y, z], activation = lambda x: x+1)\n",
    "dl2(x)"
   ]
  },
  {
   "cell_type": "markdown",
   "metadata": {
    "id": "28SOU-SvANEz"
   },
   "source": [
    "We can put different layers together in a sequence:"
   ]
  },
  {
   "cell_type": "code",
   "execution_count": 16,
   "metadata": {
    "id": "Cr0iReDeANE0"
   },
   "outputs": [],
   "source": [
    "dl3 = tf.keras.layers.Dense(1, use_bias=False,\n",
    "                            weights=[tf.constant([[0], [1], [0], [1]],\n",
    "                            dtype=tf.float32)])"
   ]
  },
  {
   "cell_type": "code",
   "execution_count": 17,
   "metadata": {
    "colab": {
     "base_uri": "https://localhost:8080/"
    },
    "id": "6ZELN_UdANE7",
    "outputId": "017851e7-8eae-418f-ba54-d94a6aaaa0b2"
   },
   "outputs": [
    {
     "data": {
      "text/plain": [
       "<tf.Tensor: id=74, shape=(1, 4), dtype=float32, numpy=array([[17., 24., 31., 38.]], dtype=float32)>"
      ]
     },
     "execution_count": 17,
     "metadata": {},
     "output_type": "execute_result"
    }
   ],
   "source": [
    "x_b = dl2(x)\n",
    "x_b"
   ]
  },
  {
   "cell_type": "code",
   "execution_count": 18,
   "metadata": {
    "colab": {
     "base_uri": "https://localhost:8080/"
    },
    "id": "i_hYZZATDi8i",
    "outputId": "ac5fdbe1-27e1-40bf-db15-24361b1e0fdc"
   },
   "outputs": [
    {
     "data": {
      "text/plain": [
       "<tf.Tensor: id=90, shape=(1, 1), dtype=float32, numpy=array([[62.]], dtype=float32)>"
      ]
     },
     "execution_count": 18,
     "metadata": {},
     "output_type": "execute_result"
    }
   ],
   "source": [
    "dl3(x_b)"
   ]
  },
  {
   "cell_type": "markdown",
   "metadata": {
    "id": "EFVZDhcBANFA"
   },
   "source": [
    "We can get more flexibility if you use tf.keras.model:"
   ]
  },
  {
   "cell_type": "code",
   "execution_count": 31,
   "metadata": {
    "id": "FawIgAaVANFB"
   },
   "outputs": [
    {
     "name": "stdout",
     "output_type": "stream",
     "text": [
      "tf.Tensor([[62.]], shape=(1, 1), dtype=float32)\n",
      "tf.Tensor([[62.]], shape=(1, 1), dtype=float32)\n"
     ]
    }
   ],
   "source": [
    "class simple_model(tf.keras.Model):\n",
    "  def __init__(self, weights=[Y, z], activation = lambda x: x+1):\n",
    "    super (simple_model, self).__init__()\n",
    "    self.dl2 = tf.keras.layers.Dense(4, use_bias=True, weights=weights, activation = activation)\n",
    "    self.dl3 = tf.keras.layers.Dense(1, use_bias=False, \\\n",
    "                             weights=[tf.constant([[0], [1], [0], [1]], \\\n",
    "                                                  dtype=tf.float32)])\n",
    "    \n",
    "  def call(self, inputs):\n",
    "    x_b = self.dl2(inputs)\n",
    "    return (self.dl3(x_b))\n",
    "\n",
    "# Y, z constants matrices produced above\n",
    "model = simple_model(weights=[Y, z], activation = lambda x: x+1)\n",
    "\n",
    "print(model(x))\n",
    "\n",
    "# check output is same as dl3(x_b) above\n",
    "print(dl3(x_b))"
   ]
  },
  {
   "cell_type": "markdown",
   "metadata": {
    "id": "5wQpUDYcANFK"
   },
   "source": [
    "So far we have been setting the weights of the dense layers, but if we don't set the weights than weights get randomly chosen."
   ]
  },
  {
   "cell_type": "code",
   "execution_count": 33,
   "metadata": {
    "id": "7KiB1KCGANFL"
   },
   "outputs": [
    {
     "data": {
      "text/plain": [
       "<tf.Tensor: id=410, shape=(1, 4), dtype=float32, numpy=\n",
       "array([[-0.9553546 ,  0.27141684,  0.7869278 ,  1.8094403 ]],\n",
       "      dtype=float32)>"
      ]
     },
     "execution_count": 33,
     "metadata": {},
     "output_type": "execute_result"
    }
   ],
   "source": [
    "dl6 = tf.keras.layers.Dense(4, use_bias=True)\n",
    "dl6(x)"
   ]
  },
  {
   "cell_type": "code",
   "execution_count": 34,
   "metadata": {
    "id": "jaSyomRNANFP"
   },
   "outputs": [
    {
     "data": {
      "text/plain": [
       "[array([[ 0.17946231,  0.3158579 ,  0.7906002 ,  0.89545834],\n",
       "        [ 0.07899165,  0.36987293,  0.84525   ,  0.2538587 ],\n",
       "        [-0.4309334 , -0.26139563, -0.5647241 ,  0.13542151]],\n",
       "       dtype=float32), array([0., 0., 0., 0.], dtype=float32)]"
      ]
     },
     "execution_count": 34,
     "metadata": {},
     "output_type": "execute_result"
    }
   ],
   "source": [
    "dl6.get_weights()"
   ]
  },
  {
   "cell_type": "markdown",
   "metadata": {
    "id": "_EBbFPMlANFT"
   },
   "source": [
    "# Define a Recommender Model"
   ]
  },
  {
   "cell_type": "markdown",
   "metadata": {
    "id": "9G2zSEwBANFU"
   },
   "source": [
    "The embedding layer gives a list of random numbers for each user and each product."
   ]
  },
  {
   "cell_type": "code",
   "execution_count": 35,
   "metadata": {
    "id": "ugPBxkTJANFW"
   },
   "outputs": [],
   "source": [
    "embed1 = tf.keras.layers.Embedding(5, 8)"
   ]
  },
  {
   "cell_type": "code",
   "execution_count": 36,
   "metadata": {
    "colab": {
     "base_uri": "https://localhost:8080/"
    },
    "id": "6Rsjx3xdFa2o",
    "outputId": "722629af-b91e-4e80-ef05-e709d1ed92a2"
   },
   "outputs": [
    {
     "data": {
      "text/plain": [
       "<tf.Tensor: id=427, shape=(8,), dtype=float32, numpy=\n",
       "array([-0.02888781, -0.01914313, -0.00491112,  0.03842533, -0.00172539,\n",
       "       -0.03043145, -0.00501364, -0.03553481], dtype=float32)>"
      ]
     },
     "execution_count": 36,
     "metadata": {},
     "output_type": "execute_result"
    }
   ],
   "source": [
    "embed1(2)"
   ]
  },
  {
   "cell_type": "code",
   "execution_count": 37,
   "metadata": {
    "colab": {
     "base_uri": "https://localhost:8080/"
    },
    "id": "UT1hqKA3Fhn6",
    "outputId": "26e37715-1be1-46cb-a644-1ab29d3dd097"
   },
   "outputs": [
    {
     "data": {
      "text/plain": [
       "[array([[ 1.5794162e-02,  2.0063892e-03,  2.0384643e-02, -1.7105162e-02,\n",
       "          4.2638209e-02,  2.9360678e-02,  1.5085403e-02, -1.6151022e-02],\n",
       "        [ 2.6083898e-02,  2.3039188e-02, -3.3267990e-02,  1.8169213e-02,\n",
       "         -1.1945985e-02,  4.6186294e-02,  3.9192449e-02, -4.8213243e-02],\n",
       "        [-2.8887808e-02, -1.9143129e-02, -4.9111247e-03,  3.8425330e-02,\n",
       "         -1.7253868e-03, -3.0431449e-02, -5.0136447e-03, -3.5534810e-02],\n",
       "        [ 7.2288513e-04,  2.0099174e-02,  9.5255673e-06, -3.8681187e-02,\n",
       "         -3.5180010e-02, -2.0404089e-02, -5.8357492e-03,  4.7624495e-02],\n",
       "        [-6.3845031e-03,  4.9663570e-02,  4.7471736e-02,  1.1598073e-02,\n",
       "         -1.9805059e-03, -3.7484538e-02,  3.5688531e-02,  3.8580671e-03]],\n",
       "       dtype=float32)]"
      ]
     },
     "execution_count": 37,
     "metadata": {},
     "output_type": "execute_result"
    }
   ],
   "source": [
    "embed1.get_weights()"
   ]
  },
  {
   "cell_type": "markdown",
   "metadata": {
    "id": "jy4JbcRSANFc"
   },
   "source": [
    "Scores can be found using the dot product."
   ]
  },
  {
   "cell_type": "code",
   "execution_count": 38,
   "metadata": {
    "id": "yzD03VKiANFd"
   },
   "outputs": [],
   "source": [
    "products\n",
    "dummy_user_embedding = tf.keras.layers.Embedding(len(dummy_users), 6)\n",
    "product_embedding = tf.keras.layers.Embedding(len(products), 6)"
   ]
  },
  {
   "cell_type": "code",
   "execution_count": 39,
   "metadata": {
    "colab": {
     "base_uri": "https://localhost:8080/"
    },
    "id": "swCJsRn8GFV8",
    "outputId": "e69609fc-874f-45a8-89d1-547a31bf19e1"
   },
   "outputs": [
    {
     "data": {
      "text/plain": [
       "<tf.Tensor: id=443, shape=(6,), dtype=float32, numpy=\n",
       "array([ 0.04675224,  0.03770312,  0.03921   , -0.04692386,  0.03347466,\n",
       "        0.04358738], dtype=float32)>"
      ]
     },
     "execution_count": 39,
     "metadata": {},
     "output_type": "execute_result"
    }
   ],
   "source": [
    "product_embedding(99)"
   ]
  },
  {
   "cell_type": "markdown",
   "metadata": {
    "id": "FvKIEvhDANFj"
   },
   "source": [
    "We can score multiple products at the same time, which is what we need to create a ranking."
   ]
  },
  {
   "cell_type": "code",
   "execution_count": 40,
   "metadata": {
    "colab": {
     "base_uri": "https://localhost:8080/"
    },
    "id": "THjoi2ocANFk",
    "outputId": "6d2816ff-6966-4079-dd97-41a953ebc963"
   },
   "outputs": [
    {
     "data": {
      "text/plain": [
       "<tf.Tensor: id=471, shape=(), dtype=float32, numpy=-0.0032592646>"
      ]
     },
     "execution_count": 40,
     "metadata": {},
     "output_type": "execute_result"
    }
   ],
   "source": [
    "tf.tensordot(dummy_user_embedding(1), product_embedding(99), axes=[[0],[0]])"
   ]
  },
  {
   "cell_type": "code",
   "execution_count": 41,
   "metadata": {
    "colab": {
     "base_uri": "https://localhost:8080/"
    },
    "id": "5erysWfrANFo",
    "outputId": "dcecfedc-ea01-4d1e-d315-e9e85e104d8d"
   },
   "outputs": [
    {
     "data": {
      "text/plain": [
       "<tf.Tensor: id=473, shape=(4, 6), dtype=float32, numpy=\n",
       "array([[ 0.02182484,  0.02987485,  0.00529094,  0.04103741, -0.04168433,\n",
       "         0.02252043],\n",
       "       [-0.00056878, -0.02282388, -0.02507555, -0.04795363,  0.04792894,\n",
       "        -0.01607227],\n",
       "       [ 0.03156673, -0.01974326, -0.00154377,  0.02860535,  0.01547731,\n",
       "        -0.04691483],\n",
       "       [ 0.00692496, -0.03354611, -0.04435643,  0.03910199, -0.02541283,\n",
       "         0.02769155]], dtype=float32)>"
      ]
     },
     "execution_count": 41,
     "metadata": {},
     "output_type": "execute_result"
    }
   ],
   "source": [
    "example_product =tf.constant([1, 77, 104, 2062])\n",
    "product_embedding(example_product)"
   ]
  },
  {
   "cell_type": "code",
   "execution_count": 42,
   "metadata": {
    "colab": {
     "base_uri": "https://localhost:8080/"
    },
    "id": "ufsF3bjuGvGc",
    "outputId": "7f5b0d8b-3d8c-4a27-f67d-d829046b4fe9"
   },
   "outputs": [
    {
     "data": {
      "text/plain": [
       "<tf.Tensor: id=487, shape=(4,), dtype=float32, numpy=array([ 0.00067707, -0.00065943,  0.00081888,  0.00128921], dtype=float32)>"
      ]
     },
     "execution_count": 42,
     "metadata": {},
     "output_type": "execute_result"
    }
   ],
   "source": [
    "tf.tensordot(dummy_user_embedding(1), product_embedding(example_product), axes=[[0],[1]])"
   ]
  },
  {
   "cell_type": "markdown",
   "metadata": {
    "id": "4miDwmFCANFo"
   },
   "source": [
    "And we can score multiple users for multiple products which we will need to do if we are to train quickly."
   ]
  },
  {
   "cell_type": "code",
   "execution_count": null,
   "metadata": {
    "id": "Ci9FdVenI-Gh"
   },
   "outputs": [],
   "source": []
  },
  {
   "cell_type": "markdown",
   "metadata": {
    "id": "GyKlrVFUANFr"
   },
   "source": [
    "But we need to map product ids to embedding ids."
   ]
  },
  {
   "cell_type": "code",
   "execution_count": 48,
   "metadata": {
    "colab": {
     "base_uri": "https://localhost:8080/"
    },
    "id": "vVHgTDpIIREi",
    "outputId": "ac6e0720-bb10-4747-9c83-5676e0085a41"
   },
   "outputs": [
    {
     "data": {
      "text/plain": [
       "array([ 8650774,  9306139,  9961521, ..., 12058614, 12058615, 11927550])"
      ]
     },
     "execution_count": 48,
     "metadata": {},
     "output_type": "execute_result"
    }
   ],
   "source": [
    "products"
   ]
  },
  {
   "cell_type": "code",
   "execution_count": 49,
   "metadata": {
    "id": "aCiHwyBEANFs"
   },
   "outputs": [],
   "source": [
    "product_table = tf.lookup.StaticHashTable(\n",
    "    tf.lookup.KeyValueTensorInitializer(tf.constant(products, dtype=tf.int32), \n",
    "                                        range(len(products))), -1)"
   ]
  },
  {
   "cell_type": "code",
   "execution_count": 50,
   "metadata": {
    "colab": {
     "base_uri": "https://localhost:8080/"
    },
    "id": "IzzglN4yI0Gy",
    "outputId": "e37aeef6-8d2e-40f8-9561-0491bbf541c5"
   },
   "outputs": [
    {
     "data": {
      "text/plain": [
       "<tf.Tensor: id=526, shape=(1,), dtype=int32, numpy=array([29694])>"
      ]
     },
     "execution_count": 50,
     "metadata": {},
     "output_type": "execute_result"
    }
   ],
   "source": [
    "product_table.lookup(tf.constant([12058615]))"
   ]
  },
  {
   "cell_type": "markdown",
   "metadata": {
    "id": "OtS5TAQ4ANFv"
   },
   "source": [
    "Let's put those two things together"
   ]
  },
  {
   "cell_type": "code",
   "execution_count": 51,
   "metadata": {
    "id": "txSYOSZoANFv"
   },
   "outputs": [],
   "source": [
    "class SimpleRecommender(tf.keras.Model):\n",
    "    def __init__(self, dummy_users, products, length_of_embedding):\n",
    "        super(SimpleRecommender, self).__init__()\n",
    "        self.products = tf.constant(products, dtype=tf.int32)\n",
    "        self.dummy_users = tf.constant(dummy_users, dtype=tf.string)\n",
    "        self.dummy_user_table = tf.lookup.StaticHashTable(tf.lookup.KeyValueTensorInitializer(self.dummy_users, range(len(dummy_users))), -1)\n",
    "        self.product_table = tf.lookup.StaticHashTable(tf.lookup.KeyValueTensorInitializer(self.products, range(len(products))), -1)\n",
    "        \n",
    "        self.user_embedding = tf.keras.layers.Embedding(len(dummy_users), length_of_embedding)\n",
    "        self.product_embedding = tf.keras.layers.Embedding(len(products), length_of_embedding)\n",
    "\n",
    "        self.dot = tf.keras.layers.Dot(axes=-1)\n",
    "        \n",
    "    def call(self, inputs):\n",
    "        user = inputs[0]\n",
    "        products = inputs[1]\n",
    "\n",
    "        user_embedding_index = self.dummy_user_table.lookup(user)\n",
    "        product_embedding_index = self.product_table.lookup(products)\n",
    "\n",
    "        user_embedding_values = self.user_embedding(user_embedding_index)\n",
    "        product_embedding_values = self.product_embedding(product_embedding_index)\n",
    "\n",
    "        # squeeze is needed to make data shapes compatiable - remove it to see what happens\n",
    "        # (required only for GPU model fitting)\n",
    "        return tf.squeeze(self.dot([user_embedding_values, product_embedding_values]), 1)\n",
    "    \n",
    "    @tf.function\n",
    "    def call_item_item(self, product):\n",
    "        product_x = self.product_table.lookup(product)\n",
    "        pe = tf.expand_dims(self.product_embedding(product_x), 0)\n",
    "        \n",
    "        all_pe = tf.expand_dims(self.product_embedding.embeddings, 0)#note this only works if the layer has been built!\n",
    "        scores = tf.reshape(self.dot([pe, all_pe]), [-1])\n",
    "        \n",
    "        top_scores, top_indices = tf.math.top_k(scores, k=100)\n",
    "        top_ids = tf.gather(self.products, top_indices)\n",
    "        return top_ids, top_scores"
   ]
  },
  {
   "cell_type": "code",
   "execution_count": 52,
   "metadata": {
    "colab": {
     "base_uri": "https://localhost:8080/"
    },
    "id": "UxEVUq5qKy0y",
    "outputId": "afc1ca04-96d5-424e-aabc-b57baf87e2c1"
   },
   "outputs": [
    {
     "data": {
      "text/plain": [
       "array(['pmfkU4BNZhmtLgJQwJ7x', 'UDRRwOlzlWVbu7H8YCCi',\n",
       "       'QHGAef0TI6dhn0wTogvW', ..., 'lcORJ5hemOZc1iGo9z7k',\n",
       "       '5CqDquDAszqJp27P7AL8', 'SSPNYxJMfuKhoe1dg24m'], dtype='<U20')"
      ]
     },
     "execution_count": 52,
     "metadata": {},
     "output_type": "execute_result"
    }
   ],
   "source": [
    "dummy_users"
   ]
  },
  {
   "cell_type": "code",
   "execution_count": 53,
   "metadata": {
    "colab": {
     "base_uri": "https://localhost:8080/"
    },
    "id": "uREs-67vK3_b",
    "outputId": "dfeea0bd-6ceb-4d81-a9a1-5f8cfc5c90b5"
   },
   "outputs": [
    {
     "data": {
      "text/plain": [
       "array([ 8650774,  9306139,  9961521, ..., 12058614, 12058615, 11927550])"
      ]
     },
     "execution_count": 53,
     "metadata": {},
     "output_type": "execute_result"
    }
   ],
   "source": [
    "products"
   ]
  },
  {
   "cell_type": "code",
   "execution_count": 54,
   "metadata": {
    "colab": {
     "base_uri": "https://localhost:8080/"
    },
    "id": "thpxVuhgKm3m",
    "outputId": "3d770f99-60cb-42d2-ccda-b7b7e22ce332"
   },
   "outputs": [
    {
     "data": {
      "text/plain": [
       "<tf.Tensor: id=575, shape=(2, 3), dtype=float32, numpy=\n",
       "array([[-0.00024299, -0.00437703, -0.00178926],\n",
       "       [-0.00742602, -0.00197724, -0.00097019]], dtype=float32)>"
      ]
     },
     "execution_count": 54,
     "metadata": {},
     "output_type": "execute_result"
    }
   ],
   "source": [
    "sr1 = SimpleRecommender(dummy_users, products, 15)\n",
    "sr1([tf.constant([['pmfkU4BNZhmtLgJQwJ7x'],['UDRRwOlzlWVbu7H8YCCi']]), tf.constant([[8650774,  9306139,  9961521],[12058614, 12058615, 11927550]])])"
   ]
  },
  {
   "cell_type": "markdown",
   "metadata": {
    "id": "lyQUkE3mANF1"
   },
   "source": [
    "# Creating a dataset"
   ]
  },
  {
   "cell_type": "markdown",
   "metadata": {
    "id": "vEQO2rQaANF2"
   },
   "source": [
    "First create a tf.data.Dataset from the user purchase pairs."
   ]
  },
  {
   "cell_type": "code",
   "execution_count": 55,
   "metadata": {
    "colab": {
     "base_uri": "https://localhost:8080/",
     "height": 419
    },
    "id": "-msPmc_xNGmj",
    "outputId": "abc5e352-623c-4cca-b6bd-7aa316a3b3b8"
   },
   "outputs": [
    {
     "data": {
      "text/html": [
       "<div>\n",
       "<style scoped>\n",
       "    .dataframe tbody tr th:only-of-type {\n",
       "        vertical-align: middle;\n",
       "    }\n",
       "\n",
       "    .dataframe tbody tr th {\n",
       "        vertical-align: top;\n",
       "    }\n",
       "\n",
       "    .dataframe thead th {\n",
       "        text-align: right;\n",
       "    }\n",
       "</style>\n",
       "<table border=\"1\" class=\"dataframe\">\n",
       "  <thead>\n",
       "    <tr style=\"text-align: right;\">\n",
       "      <th></th>\n",
       "      <th>dummyUserId</th>\n",
       "      <th>productId</th>\n",
       "    </tr>\n",
       "  </thead>\n",
       "  <tbody>\n",
       "    <tr>\n",
       "      <td>0</td>\n",
       "      <td>b'PIXcm7Ru5KmntCy0yA1K'</td>\n",
       "      <td>10524048</td>\n",
       "    </tr>\n",
       "    <tr>\n",
       "      <td>1</td>\n",
       "      <td>b'd0RILFB1hUzNSINMY4Ow'</td>\n",
       "      <td>9137713</td>\n",
       "    </tr>\n",
       "    <tr>\n",
       "      <td>2</td>\n",
       "      <td>b'Ebax7lyhnKRm4xeRlWW2'</td>\n",
       "      <td>5808602</td>\n",
       "    </tr>\n",
       "    <tr>\n",
       "      <td>3</td>\n",
       "      <td>b'vtigDw2h2vxKt0sJpEeU'</td>\n",
       "      <td>10548272</td>\n",
       "    </tr>\n",
       "    <tr>\n",
       "      <td>4</td>\n",
       "      <td>b'r4GfiEaUGxziyjX0PyU6'</td>\n",
       "      <td>10988173</td>\n",
       "    </tr>\n",
       "    <tr>\n",
       "      <td>...</td>\n",
       "      <td>...</td>\n",
       "      <td>...</td>\n",
       "    </tr>\n",
       "    <tr>\n",
       "      <td>165037</td>\n",
       "      <td>b'7Eom5Ancozj01ozGxAMK'</td>\n",
       "      <td>9071435</td>\n",
       "    </tr>\n",
       "    <tr>\n",
       "      <td>165038</td>\n",
       "      <td>b'zi9vZETHqSIZK0TM2nZc'</td>\n",
       "      <td>10413104</td>\n",
       "    </tr>\n",
       "    <tr>\n",
       "      <td>165039</td>\n",
       "      <td>b'fVCveec9P946asY5wqGm'</td>\n",
       "      <td>9859881</td>\n",
       "    </tr>\n",
       "    <tr>\n",
       "      <td>165040</td>\n",
       "      <td>b'VJtfpw602SZHh2qwarK4'</td>\n",
       "      <td>10809487</td>\n",
       "    </tr>\n",
       "    <tr>\n",
       "      <td>165041</td>\n",
       "      <td>b'D8BlXaKnJHXmxgwfSZzE'</td>\n",
       "      <td>8752491</td>\n",
       "    </tr>\n",
       "  </tbody>\n",
       "</table>\n",
       "<p>165042 rows × 2 columns</p>\n",
       "</div>"
      ],
      "text/plain": [
       "                    dummyUserId  productId\n",
       "0       b'PIXcm7Ru5KmntCy0yA1K'   10524048\n",
       "1       b'd0RILFB1hUzNSINMY4Ow'    9137713\n",
       "2       b'Ebax7lyhnKRm4xeRlWW2'    5808602\n",
       "3       b'vtigDw2h2vxKt0sJpEeU'   10548272\n",
       "4       b'r4GfiEaUGxziyjX0PyU6'   10988173\n",
       "...                         ...        ...\n",
       "165037  b'7Eom5Ancozj01ozGxAMK'    9071435\n",
       "165038  b'zi9vZETHqSIZK0TM2nZc'   10413104\n",
       "165039  b'fVCveec9P946asY5wqGm'    9859881\n",
       "165040  b'VJtfpw602SZHh2qwarK4'   10809487\n",
       "165041  b'D8BlXaKnJHXmxgwfSZzE'    8752491\n",
       "\n",
       "[165042 rows x 2 columns]"
      ]
     },
     "execution_count": 55,
     "metadata": {},
     "output_type": "execute_result"
    }
   ],
   "source": [
    "train"
   ]
  },
  {
   "cell_type": "code",
   "execution_count": 56,
   "metadata": {
    "colab": {
     "base_uri": "https://localhost:8080/"
    },
    "id": "sIMeUlRwANF3",
    "outputId": "b3167994-de68-4e01-c5bb-149f964cb5e6"
   },
   "outputs": [
    {
     "name": "stdout",
     "output_type": "stream",
     "text": [
      "tf.Tensor([b'PIXcm7Ru5KmntCy0yA1K'], shape=(1,), dtype=string)\n",
      "tf.Tensor([10524048], shape=(1,), dtype=int32)\n"
     ]
    }
   ],
   "source": [
    "dummy_user_tensor = tf.constant(train[[\"dummyUserId\"]].values, dtype=tf.string)\n",
    "product_tensor = tf.constant(train[[\"productId\"]].values, dtype=tf.int32)\n",
    "\n",
    "dataset = tf.data.Dataset.from_tensor_slices((dummy_user_tensor, product_tensor))\n",
    "for x, y in dataset:\n",
    "    print(x)\n",
    "    print(y)\n",
    "    break"
   ]
  },
  {
   "cell_type": "code",
   "execution_count": 57,
   "metadata": {
    "colab": {
     "base_uri": "https://localhost:8080/"
    },
    "id": "Xw-lGW73Nk5a",
    "outputId": "d94cdcbb-c66e-42b4-b4c1-5aeec7902697"
   },
   "outputs": [
    {
     "data": {
      "text/plain": [
       "array([ 8650774,  9306139,  9961521, ..., 12058614, 12058615, 11927550])"
      ]
     },
     "execution_count": 57,
     "metadata": {},
     "output_type": "execute_result"
    }
   ],
   "source": [
    "products"
   ]
  },
  {
   "cell_type": "code",
   "execution_count": 58,
   "metadata": {
    "colab": {
     "base_uri": "https://localhost:8080/"
    },
    "id": "v9uZiJOPNqxX",
    "outputId": "ccb6713b-3bb3-4f22-b68e-5d02021dbb66"
   },
   "outputs": [
    {
     "data": {
      "text/plain": [
       "<tf.Tensor: id=589, shape=(7,), dtype=int32, numpy=array([ 6181, 10012, 27496, 19431,  8281, 24337, 28733])>"
      ]
     },
     "execution_count": 58,
     "metadata": {},
     "output_type": "execute_result"
    }
   ],
   "source": [
    "random_negative_indexes = tf.random.uniform((7,), minval = 0, maxval = len(products), dtype=tf.int32 )\n",
    "random_negative_indexes"
   ]
  },
  {
   "cell_type": "code",
   "execution_count": 59,
   "metadata": {
    "colab": {
     "base_uri": "https://localhost:8080/"
    },
    "id": "kdDdu7laONKZ",
    "outputId": "40e98747-e6b0-44a0-8be6-9dc59142789e"
   },
   "outputs": [
    {
     "data": {
      "text/plain": [
       "<tf.Tensor: id=592, shape=(7,), dtype=int32, numpy=\n",
       "array([12871981, 12889804,  9297200, 11490257, 11177882, 11119126,\n",
       "       12448245])>"
      ]
     },
     "execution_count": 59,
     "metadata": {},
     "output_type": "execute_result"
    }
   ],
   "source": [
    "tf.gather(products, random_negative_indexes)"
   ]
  },
  {
   "cell_type": "code",
   "execution_count": 60,
   "metadata": {
    "colab": {
     "base_uri": "https://localhost:8080/"
    },
    "id": "IvXIrqbBOV3R",
    "outputId": "ba4ecfc7-d25c-46e4-afd9-f8dcae0d6899"
   },
   "outputs": [
    {
     "data": {
      "text/plain": [
       "10604200"
      ]
     },
     "execution_count": 60,
     "metadata": {},
     "output_type": "execute_result"
    }
   ],
   "source": [
    "products[26597]"
   ]
  },
  {
   "cell_type": "markdown",
   "metadata": {
    "id": "hlEGvNCoANGD"
   },
   "source": [
    "For each purchase let's sample a number of products that the user did not purchase. Then the model can score each of the products and we will know we are doing a good job if the product with the highest score is the product that the user actually purchased.\n",
    "\n",
    "We can do this using dataset.map"
   ]
  },
  {
   "cell_type": "code",
   "execution_count": 61,
   "metadata": {
    "colab": {
     "base_uri": "https://localhost:8080/"
    },
    "id": "9h9yi-YCPwx1",
    "outputId": "63b34b71-8bfd-40cd-f1f9-103e9d47f10a"
   },
   "outputs": [
    {
     "data": {
      "text/plain": [
       "<tf.Tensor: id=597, shape=(11,), dtype=float32, numpy=array([1., 0., 0., 0., 0., 0., 0., 0., 0., 0., 0.], dtype=float32)>"
      ]
     },
     "execution_count": 61,
     "metadata": {},
     "output_type": "execute_result"
    }
   ],
   "source": [
    "tf.one_hot(0, depth=11)"
   ]
  },
  {
   "cell_type": "code",
   "execution_count": 62,
   "metadata": {
    "id": "yXR0tQjdANGE"
   },
   "outputs": [],
   "source": [
    "class Mapper():\n",
    "    \n",
    "    def __init__(self, possible_products, num_negative_products):\n",
    "        self.num_possible_products = len(possible_products)\n",
    "        self.possible_products_tensor = tf.constant(possible_products, dtype=tf.int32)\n",
    "        \n",
    "        self.num_negative_products = num_negative_products\n",
    "        self.y = tf.one_hot(0, depth=num_negative_products+1)\n",
    "    \n",
    "    def __call__(self, user, product):\n",
    "        random_negative_indexes = tf.random.uniform((self.num_negative_products,), minval = 0, maxval = self.num_possible_products, dtype=tf.int32 )\n",
    "        negatives = tf.gather(self.possible_products_tensor, random_negative_indexes)\n",
    "        candidates = tf.concat([product, negatives], axis=0)\n",
    "        return (user, candidates), self.y"
   ]
  },
  {
   "cell_type": "code",
   "execution_count": 64,
   "metadata": {
    "colab": {
     "base_uri": "https://localhost:8080/"
    },
    "id": "uGk48SsdPZMq",
    "outputId": "8b44b636-0744-4b1f-82c1-b4ccde5600cf"
   },
   "outputs": [
    {
     "name": "stdout",
     "output_type": "stream",
     "text": [
      "WARNING:tensorflow:Entity <bound method Mapper.__call__ of <__main__.Mapper object at 0x0000018450FA9808>> could not be transformed and will be executed as-is. Please report this to the AutoGraph team. When filing the bug, set the verbosity to 10 (on Linux, `export AUTOGRAPH_VERBOSITY=10`) and attach the full output. Cause: Bad argument number for Name: 3, expecting 4\n",
      "WARNING: Entity <bound method Mapper.__call__ of <__main__.Mapper object at 0x0000018450FA9808>> could not be transformed and will be executed as-is. Please report this to the AutoGraph team. When filing the bug, set the verbosity to 10 (on Linux, `export AUTOGRAPH_VERBOSITY=10`) and attach the full output. Cause: Bad argument number for Name: 3, expecting 4\n",
      "tf.Tensor([b'PIXcm7Ru5KmntCy0yA1K'], shape=(1,), dtype=string)\n",
      "tf.Tensor(\n",
      "[10524048 11697587 11510443 11190050 12246662 12787701 10364265 12741203\n",
      " 11427835 11679288 10272142], shape=(11,), dtype=int32)\n",
      "tf.Tensor([1. 0. 0. 0. 0. 0. 0. 0. 0. 0. 0.], shape=(11,), dtype=float32)\n"
     ]
    }
   ],
   "source": [
    "dataset = tf.data.Dataset.from_tensor_slices((dummy_user_tensor, product_tensor)).map(Mapper(products, 10))\n",
    "for (u, c), y in dataset:\n",
    "    print(u)\n",
    "    print(c)\n",
    "    print(y)\n",
    "    break"
   ]
  },
  {
   "cell_type": "markdown",
   "metadata": {
    "id": "VMdi6HTiANGK"
   },
   "source": [
    "Let's bring the steps together to define a function which creates a dataset "
   ]
  },
  {
   "cell_type": "code",
   "execution_count": 65,
   "metadata": {
    "id": "UH66vZN0ANGM"
   },
   "outputs": [],
   "source": [
    "def get_dataset(df, products, num_negative_products):\n",
    "    dummy_user_tensor = tf.constant(df[[\"dummyUserId\"]].values, dtype=tf.string)\n",
    "    product_tensor = tf.constant(df[[\"productId\"]].values, dtype=tf.int32)\n",
    "\n",
    "    dataset = tf.data.Dataset.from_tensor_slices((dummy_user_tensor, product_tensor))\n",
    "    dataset = dataset.map(Mapper(products, num_negative_products))\n",
    "    dataset = dataset.batch(1024)\n",
    "\n",
    "    return dataset"
   ]
  },
  {
   "cell_type": "code",
   "execution_count": 66,
   "metadata": {
    "colab": {
     "base_uri": "https://localhost:8080/"
    },
    "id": "1rJTzAC5QuOU",
    "outputId": "46169500-2be4-400c-e9c6-eb1fbef2aec5"
   },
   "outputs": [
    {
     "name": "stdout",
     "output_type": "stream",
     "text": [
      "WARNING:tensorflow:Entity <bound method Mapper.__call__ of <__main__.Mapper object at 0x0000018451169808>> could not be transformed and will be executed as-is. Please report this to the AutoGraph team. When filing the bug, set the verbosity to 10 (on Linux, `export AUTOGRAPH_VERBOSITY=10`) and attach the full output. Cause: Bad argument number for Name: 3, expecting 4\n",
      "WARNING: Entity <bound method Mapper.__call__ of <__main__.Mapper object at 0x0000018451169808>> could not be transformed and will be executed as-is. Please report this to the AutoGraph team. When filing the bug, set the verbosity to 10 (on Linux, `export AUTOGRAPH_VERBOSITY=10`) and attach the full output. Cause: Bad argument number for Name: 3, expecting 4\n",
      "tf.Tensor(\n",
      "[[b'PIXcm7Ru5KmntCy0yA1K']\n",
      " [b'd0RILFB1hUzNSINMY4Ow']\n",
      " [b'Ebax7lyhnKRm4xeRlWW2']\n",
      " ...\n",
      " [b'xuX9n8PHfSR0AP3UZ8ar']\n",
      " [b'iNnxsPFfOa9884fMjVPJ']\n",
      " [b'aD8Mn12im8lFPzXAY41P']], shape=(1024, 1), dtype=string)\n",
      "tf.Tensor(\n",
      "[[10524048  9500597  9412799  9791769 13120534]\n",
      " [ 9137713  9377456 11822513  9179829  9702625]\n",
      " [ 5808602 12501015 12154941 11428985  9870223]\n",
      " ...\n",
      " [11541336  8899028 10171028  9669331 10614982]\n",
      " [ 7779232 10712238 10460513 11122660 12515722]\n",
      " [ 4941259  9805645  8068539 10399596 10879982]], shape=(1024, 5), dtype=int32)\n",
      "tf.Tensor(\n",
      "[[1. 0. 0. 0. 0.]\n",
      " [1. 0. 0. 0. 0.]\n",
      " [1. 0. 0. 0. 0.]\n",
      " ...\n",
      " [1. 0. 0. 0. 0.]\n",
      " [1. 0. 0. 0. 0.]\n",
      " [1. 0. 0. 0. 0.]], shape=(1024, 5), dtype=float32)\n"
     ]
    }
   ],
   "source": [
    "for (u, c), y in get_dataset(train, products, 4):\n",
    "  print(u)\n",
    "  print(c)\n",
    "  print(y)\n",
    "  break"
   ]
  },
  {
   "cell_type": "markdown",
   "metadata": {
    "id": "avlOEbNsANGQ"
   },
   "source": [
    "# Train a model"
   ]
  },
  {
   "cell_type": "markdown",
   "metadata": {
    "id": "c8l4jI73ANGQ"
   },
   "source": [
    "We need to compile a model, set the loss and create an evaluation metric. Then we need to train the model."
   ]
  },
  {
   "cell_type": "code",
   "execution_count": 67,
   "metadata": {
    "colab": {
     "base_uri": "https://localhost:8080/"
    },
    "id": "AgBquIqjANGR",
    "outputId": "d8add6af-09cd-427a-9eaf-8089edea8417"
   },
   "outputs": [
    {
     "name": "stdout",
     "output_type": "stream",
     "text": [
      "WARNING:tensorflow:Entity <bound method Mapper.__call__ of <__main__.Mapper object at 0x00000184501496C8>> could not be transformed and will be executed as-is. Please report this to the AutoGraph team. When filing the bug, set the verbosity to 10 (on Linux, `export AUTOGRAPH_VERBOSITY=10`) and attach the full output. Cause: Bad argument number for Name: 3, expecting 4\n",
      "WARNING: Entity <bound method Mapper.__call__ of <__main__.Mapper object at 0x00000184501496C8>> could not be transformed and will be executed as-is. Please report this to the AutoGraph team. When filing the bug, set the verbosity to 10 (on Linux, `export AUTOGRAPH_VERBOSITY=10`) and attach the full output. Cause: Bad argument number for Name: 3, expecting 4\n",
      "WARNING:tensorflow:Entity <bound method Mapper.__call__ of <__main__.Mapper object at 0x0000018451106188>> could not be transformed and will be executed as-is. Please report this to the AutoGraph team. When filing the bug, set the verbosity to 10 (on Linux, `export AUTOGRAPH_VERBOSITY=10`) and attach the full output. Cause: Bad argument number for Name: 3, expecting 4\n",
      "WARNING: Entity <bound method Mapper.__call__ of <__main__.Mapper object at 0x0000018451106188>> could not be transformed and will be executed as-is. Please report this to the AutoGraph team. When filing the bug, set the verbosity to 10 (on Linux, `export AUTOGRAPH_VERBOSITY=10`) and attach the full output. Cause: Bad argument number for Name: 3, expecting 4\n",
      "WARNING:tensorflow:Entity <bound method SimpleRecommender.call of <__main__.SimpleRecommender object at 0x00000184511AE648>> could not be transformed and will be executed as-is. Please report this to the AutoGraph team. When filing the bug, set the verbosity to 10 (on Linux, `export AUTOGRAPH_VERBOSITY=10`) and attach the full output. Cause: module 'gast' has no attribute 'Num'\n",
      "WARNING: Entity <bound method SimpleRecommender.call of <__main__.SimpleRecommender object at 0x00000184511AE648>> could not be transformed and will be executed as-is. Please report this to the AutoGraph team. When filing the bug, set the verbosity to 10 (on Linux, `export AUTOGRAPH_VERBOSITY=10`) and attach the full output. Cause: module 'gast' has no attribute 'Num'\n",
      "Epoch 1/5\n",
      "WARNING:tensorflow:Entity <function Function._initialize_uninitialized_variables.<locals>.initialize_variables at 0x00000184507A4678> could not be transformed and will be executed as-is. Please report this to the AutoGraph team. When filing the bug, set the verbosity to 10 (on Linux, `export AUTOGRAPH_VERBOSITY=10`) and attach the full output. Cause: module 'gast' has no attribute 'Num'\n",
      "WARNING: Entity <function Function._initialize_uninitialized_variables.<locals>.initialize_variables at 0x00000184507A4678> could not be transformed and will be executed as-is. Please report this to the AutoGraph team. When filing the bug, set the verbosity to 10 (on Linux, `export AUTOGRAPH_VERBOSITY=10`) and attach the full output. Cause: module 'gast' has no attribute 'Num'\n",
      "162/162 [==============================] - 22s 137ms/step - loss: 4.6151 - categorical_accuracy: 0.0130 - val_loss: 0.0000e+00 - val_categorical_accuracy: 0.0000e+00\n",
      "Epoch 2/5\n",
      "162/162 [==============================] - 22s 136ms/step - loss: 4.6120 - categorical_accuracy: 0.0827 - val_loss: 4.6148 - val_categorical_accuracy: 0.0469\n",
      "Epoch 3/5\n",
      "162/162 [==============================] - 22s 138ms/step - loss: 4.6010 - categorical_accuracy: 0.1907 - val_loss: 4.6084 - val_categorical_accuracy: 0.0756\n",
      "Epoch 4/5\n",
      "162/162 [==============================] - 23s 140ms/step - loss: 4.5261 - categorical_accuracy: 0.2411 - val_loss: 4.5490 - val_categorical_accuracy: 0.1009\n",
      "Epoch 5/5\n",
      "162/162 [==============================] - 23s 142ms/step - loss: 4.2944 - categorical_accuracy: 0.2408 - val_loss: 4.4019 - val_categorical_accuracy: 0.1120\n"
     ]
    },
    {
     "data": {
      "text/plain": [
       "<tensorflow.python.keras.callbacks.History at 0x184517b4a08>"
      ]
     },
     "execution_count": 67,
     "metadata": {},
     "output_type": "execute_result"
    }
   ],
   "source": [
    "model = SimpleRecommender(dummy_users, products, 15)\n",
    "model.compile(loss=tf.keras.losses.CategoricalCrossentropy(from_logits=True),\n",
    "              optimizer = tf.keras.optimizers.SGD(learning_rate=100.),\n",
    "              metrics = [tf.keras.metrics.CategoricalAccuracy()])\n",
    "model.fit(get_dataset(train, products, 100), validation_data= get_dataset(valid, products, 100), epochs=5)"
   ]
  },
  {
   "cell_type": "markdown",
   "metadata": {
    "id": "c0030UI9ANGY"
   },
   "source": [
    "Let's do a manual check on whether the model is any good."
   ]
  },
  {
   "cell_type": "code",
   "execution_count": 68,
   "metadata": {
    "id": "8k8yUNH4ANGa"
   },
   "outputs": [],
   "source": [
    "test_product = 11698965"
   ]
  },
  {
   "cell_type": "code",
   "execution_count": 69,
   "metadata": {
    "colab": {
     "base_uri": "https://localhost:8080/"
    },
    "id": "GfwrTU5tANGj",
    "outputId": "408a81f8-1afb-48c5-be05-9b56bd280fc7"
   },
   "outputs": [
    {
     "name": "stdout",
     "output_type": "stream",
     "text": [
      "WARNING:tensorflow:Entity <bound method SimpleRecommender.call_item_item of <tensorflow.python.eager.function.TfMethodTarget object at 0x00000184511C5448>> could not be transformed and will be executed as-is. Please report this to the AutoGraph team. When filing the bug, set the verbosity to 10 (on Linux, `export AUTOGRAPH_VERBOSITY=10`) and attach the full output. Cause: Bad argument number for Name: 3, expecting 4\n",
      "WARNING: Entity <bound method SimpleRecommender.call_item_item of <tensorflow.python.eager.function.TfMethodTarget object at 0x00000184511C5448>> could not be transformed and will be executed as-is. Please report this to the AutoGraph team. When filing the bug, set the verbosity to 10 (on Linux, `export AUTOGRAPH_VERBOSITY=10`) and attach the full output. Cause: Bad argument number for Name: 3, expecting 4\n",
      "Recs for item 11698965: (<tf.Tensor: id=4563, shape=(100,), dtype=int32, numpy=\n",
      "array([ 9565144, 10573792, 12280078, 12261521, 11890074, 10958640,\n",
      "       11613063, 11187698, 11673558, 10999905, 11001547, 12280604,\n",
      "        9489449,  8713815,  8678087, 10277067, 12254938, 11103317,\n",
      "       12227117, 10104302, 10994983, 11227753, 10275703,  9097969,\n",
      "       11001554, 11701095, 11173772, 12074695, 10294086, 10313006,\n",
      "       10940885,  9544989,  8569920, 11001552, 11116710, 11051706,\n",
      "        9882761,  8941836,  9585059,  7690166,  8853625, 13344830,\n",
      "       11489649,  6036771, 10972726, 10102320, 12357421,  9616053,\n",
      "       10534339, 12033161, 12695251, 10566525, 12297404, 10231893,\n",
      "        9071435, 12273427, 11441270, 12507832, 10999903, 11778735,\n",
      "       11506467, 10960540, 11865802, 13000935,  8867906, 10594200,\n",
      "       11852897, 10123841, 10104809, 11633169, 10119530, 10442992,\n",
      "        7908164, 11399936, 11088255, 11430300, 11230719, 10334478,\n",
      "       11568490,  9414102, 11927847,  8868237, 11195371, 10490474,\n",
      "       11376261, 10534234, 11938974, 12975643, 11469608, 12012181,\n",
      "        8713816,  5124919, 10326627, 10451707, 10911157, 13167311,\n",
      "       10769705, 10793771, 10413371,  9629382])>, <tf.Tensor: id=4564, shape=(100,), dtype=float32, numpy=\n",
      "array([0.1968642 , 0.16670816, 0.1635253 , 0.13072161, 0.12341797,\n",
      "       0.11473051, 0.11152969, 0.1089661 , 0.10447187, 0.09276067,\n",
      "       0.08780783, 0.08746328, 0.08684294, 0.08352061, 0.08278748,\n",
      "       0.0826374 , 0.08138449, 0.08137622, 0.07968202, 0.07857328,\n",
      "       0.07836517, 0.0768913 , 0.07485919, 0.0746282 , 0.07403872,\n",
      "       0.07308799, 0.07161326, 0.07153005, 0.07079088, 0.07062472,\n",
      "       0.07036421, 0.06988104, 0.06906485, 0.06751829, 0.06701331,\n",
      "       0.06617246, 0.06610303, 0.06607826, 0.0659088 , 0.06553689,\n",
      "       0.06519781, 0.06502884, 0.06500144, 0.06487262, 0.06473263,\n",
      "       0.06467609, 0.06434436, 0.06433142, 0.06416368, 0.06406301,\n",
      "       0.0637111 , 0.06370787, 0.06359853, 0.06341954, 0.06318115,\n",
      "       0.06306989, 0.06285121, 0.06232681, 0.06225093, 0.06179508,\n",
      "       0.06165188, 0.06155715, 0.06109766, 0.06097112, 0.06095113,\n",
      "       0.06045852, 0.0603009 , 0.06027481, 0.06024782, 0.0601927 ,\n",
      "       0.05998882, 0.05959405, 0.05957446, 0.05952982, 0.05944268,\n",
      "       0.05943033, 0.05929687, 0.05926689, 0.0592454 , 0.05906938,\n",
      "       0.05899823, 0.05896497, 0.05856659, 0.05848733, 0.05827298,\n",
      "       0.05814376, 0.05813867, 0.05799168, 0.05788395, 0.05777532,\n",
      "       0.05768494, 0.05745751, 0.05744893, 0.0574445 , 0.05736305,\n",
      "       0.05735742, 0.05731759, 0.05726549, 0.0572485 , 0.05719218],\n",
      "      dtype=float32)>)\n"
     ]
    }
   ],
   "source": [
    "print(\"Recs for item {}: {}\".format(test_product, model.call_item_item(tf.constant(test_product, dtype=tf.int32))))"
   ]
  },
  {
   "cell_type": "markdown",
   "metadata": {
    "id": "biF3jSkiWOBR"
   },
   "source": [
    "try http://asos.com/prd/11698965 vs. http://asos.com/prd/10351406\n"
   ]
  },
  {
   "cell_type": "markdown",
   "metadata": {
    "id": "1mjp7l68ANGm"
   },
   "source": [
    "# Save the model\n",
    "### _This part works only in colab_"
   ]
  },
  {
   "cell_type": "code",
   "execution_count": null,
   "metadata": {
    "id": "J_4qXUsHANGn"
   },
   "outputs": [],
   "source": [
    "model_path = \"models/recommender/1\""
   ]
  },
  {
   "cell_type": "code",
   "execution_count": null,
   "metadata": {
    "id": "UogzkXi2ANG1"
   },
   "outputs": [],
   "source": [
    "input_signature = tf.TensorSpec(shape=(), dtype=tf.int32)"
   ]
  },
  {
   "cell_type": "code",
   "execution_count": null,
   "metadata": {
    "id": "tg2JU7InANG-"
   },
   "outputs": [],
   "source": [
    "signatures = { 'call_item_item': model.call_item_item.get_concrete_function(input_signature)}"
   ]
  },
  {
   "cell_type": "code",
   "execution_count": null,
   "metadata": {
    "colab": {
     "base_uri": "https://localhost:8080/"
    },
    "id": "ig_iZzcEANHF",
    "outputId": "d12bdea0-979f-440b-9434-9c117b94c03d"
   },
   "outputs": [],
   "source": [
    "tf.saved_model.save(model, model_path, signatures=signatures)"
   ]
  },
  {
   "cell_type": "code",
   "execution_count": null,
   "metadata": {
    "colab": {
     "base_uri": "https://localhost:8080/"
    },
    "id": "yDOZw2K0ANHK",
    "outputId": "ad53b915-7fd6-4231-b900-40e7fa6eb95e"
   },
   "outputs": [],
   "source": [
    "imported_model = tf.saved_model.load('models/recommender/1')\n",
    "list(imported_model.signatures.keys())"
   ]
  },
  {
   "cell_type": "code",
   "execution_count": null,
   "metadata": {
    "colab": {
     "base_uri": "https://localhost:8080/"
    },
    "id": "em2OYa_5ANHN",
    "outputId": "5c2486c7-c440-4ab1-ce11-49e9bf9835e9"
   },
   "outputs": [],
   "source": [
    "imported_model.signatures['call_item_item'](tf.constant([14844847]))"
   ]
  },
  {
   "cell_type": "code",
   "execution_count": null,
   "metadata": {
    "colab": {
     "base_uri": "https://localhost:8080/",
     "height": 333
    },
    "id": "iavzFQscANHX",
    "outputId": "ee12193e-2c7c-4038-e399-515ad5eba2ed"
   },
   "outputs": [],
   "source": [
    "os.makedirs(\"dummy/0\")\n",
    "tf.saved_model.save(model, 'dummy/0')    \n",
    "imported = tf.saved_model.load(\"dummy/0\")\n",
    "imported(tf.constant([10351406]))"
   ]
  },
  {
   "cell_type": "code",
   "execution_count": null,
   "metadata": {
    "colab": {
     "base_uri": "https://localhost:8080/",
     "height": 333
    },
    "id": "OR6yrth-ANHa",
    "outputId": "54e79703-88cf-4cdf-bd3c-ef148a942ec3"
   },
   "outputs": [],
   "source": [
    "os.makedirs(\"dummy/1\")\n",
    "tf.saved_model.save(model, 'dummy/1',\n",
    "                    model.call_item_item.get_concrete_function(tf.TensorSpec(shape=(), dtype=tf.int32)))      \n",
    "list(imported_model.signatures.keys())"
   ]
  },
  {
   "cell_type": "code",
   "execution_count": null,
   "metadata": {
    "colab": {
     "base_uri": "https://localhost:8080/",
     "height": 282
    },
    "id": "xe10xfIzANHg",
    "outputId": "e4bdad14-4beb-4e42-bb4c-973944791187"
   },
   "outputs": [],
   "source": [
    "imported_model.signatures['serving_default'](tf.constant([10351406]))"
   ]
  },
  {
   "cell_type": "markdown",
   "metadata": {
    "id": "6WHhrdXaANHj"
   },
   "source": [
    "Zipping the saved model will make it easier to download."
   ]
  },
  {
   "cell_type": "code",
   "execution_count": null,
   "metadata": {
    "id": "aEo3oh6nANHj"
   },
   "outputs": [],
   "source": [
    "from zipfile import ZipFile\n",
    "import os\n",
    "# create a ZipFile object\n",
    "with ZipFile('models.zip', 'w') as zipObj:\n",
    "   # Iterate over all the files in directory\n",
    "    for folderName, subfolders, filenames in os.walk(\"models/recommender\"):\n",
    "        for filename in filenames:\n",
    "           #create complete filepath of file in directory\n",
    "           filePath = os.path.join(folderName, filename)\n",
    "           # Add file to zip\n",
    "           zipObj.write(filePath)"
   ]
  },
  {
   "cell_type": "code",
   "execution_count": null,
   "metadata": {
    "id": "TbLnFLHUANHn"
   },
   "outputs": [],
   "source": []
  }
 ],
 "metadata": {
  "accelerator": "GPU",
  "colab": {
   "name": "DSF-ASOS_Build_and_Deploy_a_Recommender_in_3_Hours.ipynb",
   "provenance": []
  },
  "kernelspec": {
   "display_name": "Python 3",
   "language": "python",
   "name": "python3"
  },
  "language_info": {
   "codemirror_mode": {
    "name": "ipython",
    "version": 3
   },
   "file_extension": ".py",
   "mimetype": "text/x-python",
   "name": "python",
   "nbconvert_exporter": "python",
   "pygments_lexer": "ipython3",
   "version": "3.7.4"
  }
 },
 "nbformat": 4,
 "nbformat_minor": 1
}
